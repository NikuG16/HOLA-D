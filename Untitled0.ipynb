{
  "nbformat": 4,
  "nbformat_minor": 0,
  "metadata": {
    "colab": {
      "provenance": [],
      "toc_visible": true,
      "authorship_tag": "ABX9TyMW+KQuOLUwWPnuwso9cvpV",
      "include_colab_link": true
    },
    "kernelspec": {
      "name": "python3",
      "display_name": "Python 3"
    },
    "language_info": {
      "name": "python"
    }
  },
  "cells": [
    {
      "cell_type": "markdown",
      "metadata": {
        "id": "view-in-github",
        "colab_type": "text"
      },
      "source": [
        "<a href=\"https://colab.research.google.com/github/NikuG16/HOLA-D/blob/main/Untitled0.ipynb\" target=\"_parent\"><img src=\"https://colab.research.google.com/assets/colab-badge.svg\" alt=\"Open In Colab\"/></a>"
      ]
    },
    {
      "cell_type": "code",
      "execution_count": 1,
      "metadata": {
        "colab": {
          "base_uri": "https://localhost:8080/"
        },
        "id": "Jw47PTib_mCh",
        "outputId": "e7a16aaa-dace-463d-d0db-d8f237d502e9"
      },
      "outputs": [
        {
          "output_type": "stream",
          "name": "stdout",
          "text": [
            "El cuadrado de 1 es 1\n",
            "El cuadrado de 2 es 4\n",
            "El cuadrado de 3 es 9\n",
            "El cuadrado de 4 es 16\n",
            "El cuadrado de 5 es 25\n",
            "El cuadrado de 6 es 36\n",
            "El cuadrado de 7 es 49\n",
            "El cuadrado de 8 es 64\n",
            "El cuadrado de 9 es 81\n",
            "El cuadrado de 10 es 100\n"
          ]
        }
      ],
      "source": [
        "# Crear una lista de números del 1 al 10\n",
        "numeros = list(range(1, 11))\n",
        "\n",
        "# Calcular el cuadrado de cada número\n",
        "cuadrados = [n**2 for n in numeros]\n",
        "\n",
        "# Imprimir los números y sus cuadrados\n",
        "for n, cuadrado in zip(numeros, cuadrados):\n",
        "    print(f\"El cuadrado de {n} es {cuadrado}\")"
      ]
    }
  ]
}