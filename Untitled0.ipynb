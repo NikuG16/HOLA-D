{
  "nbformat": 4,
  "nbformat_minor": 0,
  "metadata": {
    "colab": {
      "provenance": [],
      "toc_visible": true,
      "authorship_tag": "ABX9TyMW+KQuOLUwWPnuwso9cvpV",
      "include_colab_link": true
    },
    "kernelspec": {
      "name": "python3",
      "display_name": "Python 3"
    },
    "language_info": {
      "name": "python"
    }
  },
  "cells": [
    {
      "cell_type": "markdown",
      "metadata": {
        "id": "view-in-github",
        "colab_type": "text"
      },
      "source": [
        "<a href=\"https://colab.research.google.com/github/NikuG16/HOLA-D/blob/main/Untitled0.ipynb\" target=\"_parent\"><img src=\"https://colab.research.google.com/assets/colab-badge.svg\" alt=\"Open In Colab\"/></a>"
      ]
    },
    {
      "cell_type": "code",
      "execution_count": null,
      "metadata": {
        "id": "Jw47PTib_mCh"
      },
      "outputs": [],
      "source": [
        "# Crear una lista de números del 1 al 10\n",
        "numeros = list(range(1, 11))\n",
        "\n",
        "# Calcular el cuadrado de cada número\n",
        "cuadrados = [n**2 for n in numeros]\n",
        "\n",
        "# Imprimir los números y sus cuadrados\n",
        "for n, cuadrado in zip(numeros, cuadrados):\n",
        "    print(f\"El cuadrado de {n} es {cuadrado}\")"
      ]
    }
  ]
}